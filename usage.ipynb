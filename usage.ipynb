{
 "cells": [
  {
   "cell_type": "code",
   "execution_count": 1,
   "metadata": {},
   "outputs": [],
   "source": [
    "from solver import solve_board, pretty_print_board"
   ]
  },
  {
   "cell_type": "code",
   "execution_count": 2,
   "metadata": {},
   "outputs": [
    {
     "name": "stdout",
     "output_type": "stream",
     "text": [
      "SOLVED! (in 1 iterations)\n",
      "1 7 6 | 5 8 3 | 9 2 4\n",
      "8 5 9 | 2 7 4 | 3 6 1\n",
      "3 4 2 | 9 1 6 | 5 8 7\n",
      "------+-------+------\n",
      "7 9 5 | 1 4 8 | 6 3 2\n",
      "4 2 3 | 6 9 7 | 1 5 8\n",
      "6 8 1 | 3 5 2 | 7 4 9\n",
      "------+-------+------\n",
      "9 1 4 | 8 3 5 | 2 7 6\n",
      "2 3 8 | 7 6 1 | 4 9 5\n",
      "5 6 7 | 4 2 9 | 8 1 3\n"
     ]
    }
   ],
   "source": [
    "solved_board = solve_board(\"easy_sudoku.csv\")\n",
    "pretty_print_board(solved_board)"
   ]
  },
  {
   "cell_type": "code",
   "execution_count": 3,
   "metadata": {},
   "outputs": [
    {
     "name": "stdout",
     "output_type": "stream",
     "text": [
      "SOLVED! (in 2 iterations)\n",
      "3 4 5 | 6 9 1 | 7 2 8\n",
      "6 1 2 | 7 8 3 | 5 4 9\n",
      "7 9 8 | 2 4 5 | 1 3 6\n",
      "------+-------+------\n",
      "9 6 4 | 1 5 7 | 2 8 3\n",
      "5 2 3 | 8 6 4 | 9 1 7\n",
      "8 7 1 | 9 3 2 | 4 6 5\n",
      "------+-------+------\n",
      "1 3 9 | 5 2 8 | 6 7 4\n",
      "4 5 7 | 3 1 6 | 8 9 2\n",
      "2 8 6 | 4 7 9 | 3 5 1\n"
     ]
    }
   ],
   "source": [
    "solved_board = solve_board(\"medium_sudoku.csv\")\n",
    "pretty_print_board(solved_board)"
   ]
  },
  {
   "cell_type": "code",
   "execution_count": 4,
   "metadata": {},
   "outputs": [
    {
     "name": "stdout",
     "output_type": "stream",
     "text": [
      "SOLVED! (in 6 iterations)\n",
      "4 5 7 | 3 6 2 | 9 8 1\n",
      "1 6 9 | 7 8 5 | 3 4 2\n",
      "3 2 8 | 1 4 9 | 5 7 6\n",
      "------+-------+------\n",
      "6 7 3 | 4 1 8 | 2 9 5\n",
      "5 1 4 | 2 9 3 | 7 6 8\n",
      "9 8 2 | 6 5 7 | 4 1 3\n",
      "------+-------+------\n",
      "7 4 6 | 5 3 1 | 8 2 9\n",
      "8 3 1 | 9 2 4 | 6 5 7\n",
      "2 9 5 | 8 7 6 | 1 3 4\n"
     ]
    }
   ],
   "source": [
    "solved_board = solve_board(\"hard_sudoku.csv\")\n",
    "pretty_print_board(solved_board)"
   ]
  },
  {
   "cell_type": "code",
   "execution_count": 5,
   "metadata": {},
   "outputs": [
    {
     "name": "stdout",
     "output_type": "stream",
     "text": [
      "NOT SOLVED! (in 2 iterations)\n",
      "X X 6 | 5 X X | X X X\n",
      "7 X 5 | X X 2 | 3 X X\n",
      "X 3 X | X X X | X 8 5\n",
      "------+-------+------\n",
      "X 5 X | X 9 6 | X 7 X\n",
      "1 X 4 | X X X | X X 8\n",
      "X 7 X | 8 2 X | X X X\n",
      "------+-------+------\n",
      "X 2 X | X X X | 8 9 7\n",
      "X X 7 | 2 X X | 4 X X\n",
      "X X X | X X 7 | 5 X X\n"
     ]
    }
   ],
   "source": [
    "solved_board = solve_board(\"extra_hard_sudoku.csv\")\n",
    "pretty_print_board(solved_board)"
   ]
  }
 ],
 "metadata": {
  "kernelspec": {
   "display_name": "active-learning",
   "language": "python",
   "name": "python3"
  },
  "language_info": {
   "codemirror_mode": {
    "name": "ipython",
    "version": 3
   },
   "file_extension": ".py",
   "mimetype": "text/x-python",
   "name": "python",
   "nbconvert_exporter": "python",
   "pygments_lexer": "ipython3",
   "version": "3.12.1"
  }
 },
 "nbformat": 4,
 "nbformat_minor": 2
}
